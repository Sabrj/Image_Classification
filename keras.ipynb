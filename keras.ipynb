{
 "cells": [
  {
   "cell_type": "code",
   "execution_count": 18,
   "id": "fffc13a3-9094-48e1-bdaa-b59b9ec27264",
   "metadata": {},
   "outputs": [
    {
     "name": "stdout",
     "output_type": "stream",
     "text": [
      "Found 3306 images belonging to 5 classes.\n",
      "Found 365 images belonging to 5 classes.\n"
     ]
    },
    {
     "data": {
      "text/plain": [
       "{'daisy': 0, 'dandelion': 1, 'roses': 2, 'sunflowers': 3, 'tulips': 4}"
      ]
     },
     "execution_count": 18,
     "metadata": {},
     "output_type": "execute_result"
    }
   ],
   "source": [
    "import numpy as np\n",
    "import os\n",
    "import PIL\n",
    "import PIL.Image\n",
    "import tensorflow as tf\n",
    "import tensorflow_datasets as tfds\n",
    "import pathlib\n",
    "import matplotlib.pyplot as plt\n",
    "from tensorflow import keras\n",
    "from keras import layers\n",
    "from keras.preprocessing.image import ImageDataGenerator\n",
    "from tensorflow.keras.callbacks import EarlyStopping\n",
    "\n",
    "dataset_url = \"Datenbank/flower_photos\"\n",
    "data_dir = pathlib.Path(dataset_url)\n",
    "image_count = len(list(data_dir.glob('*/*.jpg')))\n",
    "\n",
    "## Create Image Batches\n",
    "\n",
    "# Settings\n",
    "test_split_size = 0.1\n",
    "batch_size = 128\n",
    "rescale_factor = 1/255\n",
    "image_shape = (240, 320, 3)\n",
    "\n",
    "image_gen = ImageDataGenerator(horizontal_flip=True,\n",
    "                                    fill_mode='nearest',\n",
    "                                    rescale=rescale_factor,\n",
    "                                    validation_split=test_split_size)\n",
    "\n",
    "train_dataset = image_gen.flow_from_directory(dataset_url,\n",
    "                                             target_size = image_shape[:2],\n",
    "                                             batch_size=batch_size,\n",
    "                                             class_mode='categorical',\n",
    "                                             subset='training',\n",
    "                                             color_mode='rgb',\n",
    "                                             seed = 300,\n",
    "                                             shuffle=True)\n",
    "\n",
    "\n",
    "validation_dataset = image_gen.flow_from_directory(dataset_url,\n",
    "                                                  target_size = image_shape[:2],\n",
    "                                                  batch_size=batch_size,\n",
    "                                                  class_mode='categorical',\n",
    "                                                  subset='validation',\n",
    "                                                  color_mode='rgb',\n",
    "                                                  seed = 300,\n",
    "                                                  shuffle=False)\n",
    "\n",
    "train_dataset.class_indices"
   ]
  },
  {
   "cell_type": "code",
   "execution_count": 19,
   "id": "ba7308f3-dcc7-4b46-9252-303ff6a70041",
   "metadata": {},
   "outputs": [
    {
     "name": "stdout",
     "output_type": "stream",
     "text": [
      "Steps Per Epoch : Training -> 25\n",
      "Steps : Validation -> 2\n"
     ]
    }
   ],
   "source": [
    "## BUILDING A MODEL\n",
    "early_stop = EarlyStopping(monitor='val_loss', patience=0)\n",
    "# Defining Number Of Steps For Training & Validation Of Model\n",
    "steps_per_epoch = train_dataset.samples // batch_size\n",
    "validation_steps = validation_dataset.samples // batch_size\n",
    "\n",
    "print('Steps Per Epoch : Training -> ' + str(steps_per_epoch))\n",
    "print('Steps : Validation -> ' + str(validation_steps))"
   ]
  },
  {
   "cell_type": "code",
   "execution_count": 21,
   "id": "763afb59-cf30-4890-a972-9f5d9e53c49b",
   "metadata": {},
   "outputs": [
    {
     "name": "stdout",
     "output_type": "stream",
     "text": [
      "Model: \"sequential_4\"\n",
      "_________________________________________________________________\n",
      " Layer (type)                Output Shape              Param #   \n",
      "=================================================================\n",
      " conv2d_3 (Conv2D)           (None, 237, 317, 32)      1568      \n",
      "                                                                 \n",
      " max_pooling2d_3 (MaxPooling  (None, 118, 158, 32)     0         \n",
      " 2D)                                                             \n",
      "                                                                 \n",
      " conv2d_4 (Conv2D)           (None, 115, 155, 64)      32832     \n",
      "                                                                 \n",
      " max_pooling2d_4 (MaxPooling  (None, 57, 77, 64)       0         \n",
      " 2D)                                                             \n",
      "                                                                 \n",
      " conv2d_5 (Conv2D)           (None, 54, 74, 96)        98400     \n",
      "                                                                 \n",
      " max_pooling2d_5 (MaxPooling  (None, 27, 37, 96)       0         \n",
      " 2D)                                                             \n",
      "                                                                 \n",
      " flatten_1 (Flatten)         (None, 95904)             0         \n",
      "                                                                 \n",
      " dense_2 (Dense)             (None, 512)               49103360  \n",
      "                                                                 \n",
      " dropout_1 (Dropout)         (None, 512)               0         \n",
      "                                                                 \n",
      " dense_3 (Dense)             (None, 5)                 2565      \n",
      "                                                                 \n",
      "=================================================================\n",
      "Total params: 49,238,725\n",
      "Trainable params: 49,238,725\n",
      "Non-trainable params: 0\n",
      "_________________________________________________________________\n"
     ]
    }
   ],
   "source": [
    "from keras.models import Sequential\n",
    "from keras.layers import Dense, Conv2D, MaxPool2D, Flatten, Dropout\n",
    "\n",
    "model = Sequential()\n",
    "\n",
    "model.add(Conv2D(filters=32, kernel_size=(4,4), input_shape = image_shape, activation='relu'))\n",
    "model.add(MaxPool2D(pool_size=(2,2)))\n",
    "\n",
    "model.add(Conv2D(filters=64, kernel_size=(4,4), activation='relu'))\n",
    "model.add(MaxPool2D(pool_size=(2,2)))\n",
    "\n",
    "model.add(Conv2D(filters=96, kernel_size=(4,4), activation='relu'))\n",
    "model.add(MaxPool2D(pool_size=(2,2)))\n",
    "\n",
    "model.add(Flatten())\n",
    "model.add(Dense(512, activation='relu'))\n",
    "model.add(Dropout(0.2))\n",
    "model.add(Dense(5, activation='softmax'))\n",
    "\n",
    "model.compile(loss='categorical_crossentropy',\n",
    "             optimizer='adam',\n",
    "             metrics=['accuracy'])\n",
    "model.summary()"
   ]
  },
  {
   "cell_type": "code",
   "execution_count": 23,
   "id": "242f1a73-b2d6-4d0c-a77c-a999e46fb1d0",
   "metadata": {},
   "outputs": [
    {
     "name": "stdout",
     "output_type": "stream",
     "text": [
      "Epoch 1/3\n",
      "25/25 [==============================] - 138s 6s/step - loss: 1.4344 - accuracy: 0.3760 - val_loss: 1.4100 - val_accuracy: 0.3867\n",
      "Epoch 2/3\n",
      "25/25 [==============================] - 145s 6s/step - loss: 1.1572 - accuracy: 0.5205 - val_loss: 1.1720 - val_accuracy: 0.6250\n"
     ]
    }
   ],
   "source": [
    "history = model.fit(train_dataset,epochs=3,steps_per_epoch = steps_per_epoch,\n",
    "                    validation_data = validation_dataset, validation_steps=validation_steps,\n",
    "                    verbose=True, callbacks=[early_stop])"
   ]
  },
  {
   "cell_type": "code",
   "execution_count": 24,
   "id": "b8648704-3634-4249-8484-7ea374b277d5",
   "metadata": {},
   "outputs": [],
   "source": [
    "acc = history.history['accuracy']\n",
    "val_acc = history.history['val_accuracy']\n",
    "loss = history.history['loss']\n",
    "val_loss = history.history['val_loss']"
   ]
  },
  {
   "cell_type": "code",
   "execution_count": 26,
   "id": "1eccf1cf-4314-4f79-b723-4a316291e7ab",
   "metadata": {},
   "outputs": [],
   "source": [
    "model_json = model.to_json()\n",
    "with open(\"model.json\", \"w\") as json_file:\n",
    "    json_file.write(model_json)\n",
    "model.save_weights(\"model.h5\")"
   ]
  },
  {
   "cell_type": "code",
   "execution_count": 27,
   "id": "d92604ac-a01a-4cfc-a2d7-4e048c2dde6b",
   "metadata": {},
   "outputs": [
    {
     "name": "stderr",
     "output_type": "stream",
     "text": [
      "/var/folders/kp/z9j20h853bq1d376dvh_pyvc0000gn/T/ipykernel_23526/2876603078.py:1: UserWarning: `Model.evaluate_generator` is deprecated and will be removed in a future version. Please use `Model.evaluate`, which supports generators.\n",
      "  model_eval_metrics = model.evaluate_generator(validation_dataset, steps=validation_steps, verbose=1)\n"
     ]
    },
    {
     "name": "stdout",
     "output_type": "stream",
     "text": [
      "2/2 [==============================] - 3s 1s/step - loss: 1.1806 - accuracy: 0.6055\n",
      "Model Accuracy : 60.55\n",
      "Model Loss : 1.18\n"
     ]
    }
   ],
   "source": [
    "model_eval_metrics = model.evaluate_generator(validation_dataset, steps=validation_steps, verbose=1)\n",
    "print('Model Accuracy : ' + str(round(model_eval_metrics[1] * 100, 2)))\n",
    "print('Model Loss : ' + str(round(model_eval_metrics[0],2)))"
   ]
  },
  {
   "cell_type": "code",
   "execution_count": null,
   "id": "e34c5cae-e05f-42d4-98bf-5477ba882996",
   "metadata": {},
   "outputs": [],
   "source": [
    "train_ds = tf.keras.utils.image_dataset_from_directory(\n",
    "  data_dir,\n",
    "  validation_split=0.2,\n",
    "  subset=\"training\",\n",
    "  seed=123,\n",
    "  image_size=(img_height, img_width),\n",
    "  batch_size=batch_size)\n",
    "\n",
    "val_ds = tf.keras.utils.image_dataset_from_directory(\n",
    "  data_dir,\n",
    "  validation_split=0.2,\n",
    "  subset=\"validation\",\n",
    "  seed=123,\n",
    "  image_size=(img_height, img_width),\n",
    "  batch_size=batch_size)\n",
    "\n",
    "\n",
    "## Standardize the data\n",
    "data_augmentation = keras.Sequential(\n",
    "    [\n",
    "        layers.RandomFlip(\"horizontal\"),\n",
    "        layers.RandomRotation(0.1),\n",
    "    ]\n",
    ")\n",
    "augmented_train_ds = train_ds.map(\n",
    "  lambda x, y: (data_augmentation(x, training=True), y))\n",
    "\n",
    "train_ds = train_ds.prefetch(buffer_size=32)\n",
    "val_ds = val_ds.prefetch(buffer_size=32)"
   ]
  },
  {
   "cell_type": "code",
   "execution_count": null,
   "id": "0802f77e-fcd2-4f83-8f9e-fca30e01c379",
   "metadata": {},
   "outputs": [],
   "source": [
    "## Build a Model\n",
    "\n",
    "def make_model(input_shape, num_classes):\n",
    "    inputs = keras.Input(shape=input_shape)\n",
    "    # Image augmentation block\n",
    "    x = data_augmentation(inputs)\n",
    "\n",
    "    # Entry block\n",
    "    x = layers.Rescaling(1.0 / 255)(x)\n",
    "    x = layers.Conv2D(32, 3, strides=2, padding=\"same\")(x)\n",
    "    x = layers.BatchNormalization()(x)\n",
    "    x = layers.Activation(\"relu\")(x)\n",
    "\n",
    "    x = layers.Conv2D(64, 3, padding=\"same\")(x)\n",
    "    x = layers.BatchNormalization()(x)\n",
    "    x = layers.Activation(\"relu\")(x)\n",
    "\n",
    "    previous_block_activation = x  # Set aside residual\n",
    "\n",
    "    for size in [128, 256, 512, 728]:\n",
    "        x = layers.Activation(\"relu\")(x)\n",
    "        x = layers.SeparableConv2D(size, 3, padding=\"same\")(x)\n",
    "        x = layers.BatchNormalization()(x)\n",
    "\n",
    "        x = layers.Activation(\"relu\")(x)\n",
    "        x = layers.SeparableConv2D(size, 3, padding=\"same\")(x)\n",
    "        x = layers.BatchNormalization()(x)\n",
    "\n",
    "        x = layers.MaxPooling2D(3, strides=2, padding=\"same\")(x)\n",
    "\n",
    "        # Project residual\n",
    "        residual = layers.Conv2D(size, 1, strides=2, padding=\"same\")(\n",
    "            previous_block_activation\n",
    "        )\n",
    "        x = layers.add([x, residual])  # Add back residual\n",
    "        previous_block_activation = x  # Set aside next residual\n",
    "\n",
    "    x = layers.SeparableConv2D(1024, 3, padding=\"same\")(x)\n",
    "    x = layers.BatchNormalization()(x)\n",
    "    x = layers.Activation(\"relu\")(x)\n",
    "\n",
    "    x = layers.GlobalAveragePooling2D()(x)\n",
    "    if num_classes == 2:\n",
    "        activation = \"sigmoid\"\n",
    "        units = 1\n",
    "    else:\n",
    "        activation = \"softmax\"\n",
    "        units = num_classes\n",
    "\n",
    "    x = layers.Dropout(0.5)(x)\n",
    "    outputs = layers.Dense(units, activation=activation)(x)\n",
    "    return keras.Model(inputs, outputs)\n",
    "\n",
    "\n",
    "model = make_model(input_shape=image_size + (3,), num_classes=2)\n",
    "keras.utils.plot_model(model, show_shapes=True)\n",
    "\n",
    "## Train the model\n",
    "epochs = 5\n",
    "\n",
    "callbacks = [\n",
    "    keras.callbacks.ModelCheckpoint(\"save_at_{epoch}.h5\"),\n",
    "]\n",
    "model.compile(\n",
    "    optimizer=keras.optimizers.Adam(1e-3),\n",
    "    loss=\"binary_crossentropy\",\n",
    "    metrics=[\"accuracy\"],\n",
    ")\n",
    "model.fit(\n",
    "    train_ds, epochs=epochs, callbacks=callbacks, validation_data=val_ds,\n",
    ")"
   ]
  },
  {
   "cell_type": "code",
   "execution_count": null,
   "id": "2c0be549-7332-43e0-809b-9038eecc4d5c",
   "metadata": {},
   "outputs": [],
   "source": []
  }
 ],
 "metadata": {
  "kernelspec": {
   "display_name": "Python 3 (ipykernel)",
   "language": "python",
   "name": "python3"
  },
  "language_info": {
   "codemirror_mode": {
    "name": "ipython",
    "version": 3
   },
   "file_extension": ".py",
   "mimetype": "text/x-python",
   "name": "python",
   "nbconvert_exporter": "python",
   "pygments_lexer": "ipython3",
   "version": "3.9.12"
  }
 },
 "nbformat": 4,
 "nbformat_minor": 5
}
